{
 "cells": [
  {
   "cell_type": "markdown",
   "metadata": {
    "pycharm": {
     "name": "#%% md\n"
    }
   },
   "source": [
    "# Risk Analysis"
   ]
  },
  {
   "cell_type": "markdown",
   "metadata": {
    "pycharm": {
     "name": "#%% md\n"
    }
   },
   "source": [
    "## Initialization"
   ]
  },
  {
   "cell_type": "code",
   "execution_count": 1,
   "metadata": {
    "pycharm": {
     "name": "#%%\n"
    }
   },
   "outputs": [],
   "source": [
    "import math \n",
    "import numpy as np \n",
    "import matplotlib.pyplot as plt\n",
    "from sklearn.metrics import confusion_matrix, accuracy_score, precision_score, recall_score, classification_report"
   ]
  },
  {
   "cell_type": "markdown",
   "metadata": {
    "pycharm": {
     "name": "#%% md\n"
    }
   },
   "source": [
    "## Data Generation \\ Loading"
   ]
  },
  {
   "cell_type": "code",
   "execution_count": 3,
   "metadata": {
    "pycharm": {
     "name": "#%%\n"
    }
   },
   "outputs": [
    {
     "data": {
      "text/plain": "[<matplotlib.lines.Line2D at 0x24c7bab7070>]"
     },
     "execution_count": 3,
     "metadata": {},
     "output_type": "execute_result"
    },
    {
     "data": {
      "text/plain": "<Figure size 432x288 with 1 Axes>",
      "image/png": "[encoded data removed]"
     },
     "metadata": {
      "needs_background": "light"
     },
     "output_type": "display_data"
    }
   ],
   "source": [
    "N = 1000\n",
    "Xtrain_1 = 2 + np.random.randn(N, 1)\n",
    "ytrain_1 = np.zeros((N, 1))\n",
    "Xtrain_2 = 4 + np.random.randn(N, 1)\n",
    "ytrain_2 = np.ones((N, 1))\n",
    "X_train = np.vstack((Xtrain_1, Xtrain_2))\n",
    "y_train = np.vstack((ytrain_1, ytrain_2))\n",
    "\n",
    "Xtest_1 = 2 + np.random.randn(int(N/2), 1)\n",
    "ytest_1 = np.zeros((int(N/2), 1))\n",
    "Xtest_2 = 4 + np.random.randn(int(N/2), 1)\n",
    "ytest_2 = np.ones((int(N/2), 1))\n",
    "\n",
    "X_test = np.vstack((Xtest_1, Xtest_2))\n",
    "y_test = np.vstack((ytest_1, ytest_2))\n",
    "plt.plot(X_train)"
   ]
  },
  {
   "cell_type": "code",
   "execution_count": 5,
   "metadata": {
    "pycharm": {
     "name": "#%%\n"
    }
   },
   "outputs": [],
   "source": [
    "def mean(X):\n",
    "    return sum(X)/float(len(X))\n",
    "\n",
    "def stdv(X):\n",
    "    avg = mean(X)\n",
    "    variance = sum([(x - avg)**2 for x in X])/float(len(X) - 1)\n",
    "    return math.sqrt(variance)"
   ]
  },
  {
   "cell_type": "code",
   "execution_count": 6,
   "metadata": {
    "pycharm": {
     "name": "#%%\n"
    }
   },
   "outputs": [],
   "source": [
    "def calculate_probability(x, mean, stdev, prior, l):\n",
    "    exponent = math.exp(-((x-mean)**2 / (2 * stdev**2 )))\n",
    "    return l*prior*(1 / (math.sqrt(2 * math.pi) * stdev)) * exponent"
   ]
  },
  {
   "cell_type": "code",
   "execution_count": 13,
   "metadata": {
    "pycharm": {
     "name": "#%%\n"
    }
   },
   "outputs": [],
   "source": [
    "m1 = mean(Xtrain_1)\n",
    "m2 = mean(Xtrain_2)\n",
    "s1 = stdv(Xtrain_1)\n",
    "s2 = stdv(Xtrain_2)\n",
    "l1 = 5\n",
    "l2 = 1\n",
    "p = 0.5\n",
    "label = []\n",
    "for item in range(len(X_test)):\n",
    "    p1 = calculate_probability(X_test[item],m1, s1, p, l1)\n",
    "    p2 = calculate_probability(X_test[item], m2, s2, 1-p, l2)\n",
    "    if p1 > p2:\n",
    "        label.append(0)\n",
    "    else:\n",
    "        label.append(1)"
   ]
  },
  {
   "cell_type": "code",
   "execution_count": 14,
   "metadata": {
    "pycharm": {
     "name": "#%%\n"
    }
   },
   "outputs": [
    {
     "data": {
      "text/plain": "array([[485,  15],\n       [206, 294]], dtype=int64)"
     },
     "execution_count": 14,
     "metadata": {},
     "output_type": "execute_result"
    }
   ],
   "source": [
    "# 2*confusion_matrix(y_test, np.array(label))/len(y_test)\n",
    "confusion_matrix(y_test, np.array(label))"
   ]
  },
  {
   "cell_type": "code",
   "execution_count": null,
   "metadata": {
    "pycharm": {
     "name": "#%%\n"
    }
   },
   "outputs": [],
   "source": []
  }
 ],
 "metadata": {
  "kernelspec": {
   "display_name": "Python 3",
   "language": "python",
   "name": "python3"
  },
  "language_info": {
   "codemirror_mode": {
    "name": "ipython",
    "version": 3
   },
   "file_extension": ".py",
   "mimetype": "text/x-python",
   "name": "python",
   "nbconvert_exporter": "python",
   "pygments_lexer": "ipython3",
   "version": "3.7.9"
  }
 },
 "nbformat": 4,
 "nbformat_minor": 4
}