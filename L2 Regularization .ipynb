{
 "cells": [
  {
   "cell_type": "markdown",
   "metadata": {
    "pycharm": {
     "name": "#%% md\n"
    }
   },
   "source": [
    "# Regularization "
   ]
  },
  {
   "cell_type": "markdown",
   "metadata": {
    "pycharm": {
     "name": "#%% md\n"
    }
   },
   "source": [
    "## Initialization"
   ]
  },
  {
   "cell_type": "code",
   "execution_count": 2,
   "metadata": {
    "pycharm": {
     "name": "#%%\n"
    }
   },
   "outputs": [],
   "source": [
    "import numpy as np \n",
    "import matplotlib.pyplot as plt \n",
    "from sklearn.preprocessing import StandardScaler, MinMaxScaler\n",
    "from collections import deque\n",
    "from sklearn.utils import shuffle\n",
    "from sklearn.model_selection import train_test_split"
   ]
  },
  {
   "cell_type": "markdown",
   "metadata": {
    "pycharm": {
     "name": "#%% md\n"
    }
   },
   "source": [
    "## Data Generation"
   ]
  },
  {
   "cell_type": "code",
   "execution_count": 5,
   "metadata": {
    "pycharm": {
     "name": "#%%\n"
    }
   },
   "outputs": [],
   "source": [
    "np.random.seed(42)\n",
    "N = 1000\n",
    "X = np.random.randn(N , 1)\n",
    "noise = 5 * np.random.randn(N , 1)\n",
    "y = 1 - 2 * X + X ** 2 - 0.5 * X ** 3 + noise"
   ]
  },
  {
   "cell_type": "markdown",
   "metadata": {
    "pycharm": {
     "name": "#%% md\n"
    }
   },
   "source": [
    "## Design Matrix Creating - Polynomial mapping\n"
   ]
  },
  {
   "cell_type": "code",
   "execution_count": 6,
   "metadata": {
    "pycharm": {
     "name": "#%%\n"
    }
   },
   "outputs": [],
   "source": [
    "def polynomial(X, degree):\n",
    "    phi = deque()\n",
    "    for k in range(1, degree + 1):\n",
    "        regressor = X ** k\n",
    "        phi.append(regressor)\n",
    "    return np.array(phi).T.reshape((len(X), degree))\n",
    "\n",
    "phi_x = polynomial(X, 15)"
   ]
  },
  {
   "cell_type": "markdown",
   "metadata": {
    "pycharm": {
     "name": "#%% md\n"
    }
   },
   "source": [
    "## Train - Test spliting and Normalization"
   ]
  },
  {
   "cell_type": "code",
   "execution_count": 20,
   "metadata": {
    "pycharm": {
     "name": "#%%\n"
    }
   },
   "outputs": [],
   "source": [
    "X_train, X_test, y_train, y_test = train_test_split(phi_x, y, test_size=0.2)\n",
    "one_vectors_tr = np.ones((len(X_train), 1))\n",
    "one_vector_te = np.ones((len(X_test), 1))\n",
    "scaler_input = MinMaxScaler().fit(X_train)\n",
    "X_train, X_test = scaler_input.fit_transform(X_train), scaler_input.fit_transform(X_test)\n",
    "scaler_output = MinMaxScaler().fit(y_train)\n",
    "y_train, y_test = scaler_output.fit_transform(y_train), scaler_output.fit_transform(y_test)\n",
    "X_train, X_test = np.hstack((one_vectors_tr, X_train)), np.hstack((one_vector_te, X_test))"
   ]
  },
  {
   "cell_type": "markdown",
   "metadata": {
    "pycharm": {
     "name": "#%% md\n"
    }
   },
   "source": [
    "## Least Square Solution "
   ]
  },
  {
   "cell_type": "code",
   "execution_count": 17,
   "metadata": {
    "pycharm": {
     "name": "#%%\n"
    }
   },
   "outputs": [],
   "source": [
    "def least_square(X_train, y_train):\n",
    "    X_T_X_train = np.matmul(X_train.T, X_train)\n",
    "    X_T_Y_train = np.matmul(X_train.T, y_train)\n",
    "    W = np.matmul(np.linalg.inv(X_T_X_train), X_T_Y_train)\n",
    "    return W"
   ]
  },
  {
   "cell_type": "markdown",
   "metadata": {
    "pycharm": {
     "name": "#%% md\n"
    }
   },
   "source": [
    "## Prediction "
   ]
  },
  {
   "cell_type": "code",
   "execution_count": 9,
   "metadata": {
    "pycharm": {
     "name": "#%%\n"
    }
   },
   "outputs": [],
   "source": [
    "def predict(X_test, W):\n",
    "    y_pre = np.matmul(X_test, W)\n",
    "    return y_pre"
   ]
  },
  {
   "cell_type": "markdown",
   "metadata": {
    "pycharm": {
     "name": "#%% md\n"
    }
   },
   "source": [
    "## Metrics"
   ]
  },
  {
   "cell_type": "code",
   "execution_count": 10,
   "metadata": {
    "pycharm": {
     "name": "#%%\n"
    }
   },
   "outputs": [],
   "source": [
    "def mse_error(y_pre, y_true):\n",
    "    error = (y_pre-y_true)**2\n",
    "    return np.mean(error)"
   ]
  },
  {
   "cell_type": "markdown",
   "metadata": {
    "pycharm": {
     "name": "#%% md\n"
    }
   },
   "source": [
    "## L2 Regularization"
   ]
  },
  {
   "cell_type": "code",
   "execution_count": 11,
   "metadata": {
    "pycharm": {
     "name": "#%%\n"
    }
   },
   "outputs": [],
   "source": [
    "def l2_regularization(X_train, y_train, lambdaa=0.1):\n",
    "    X_T_X_train = np.matmul(X_train.T, X_train)\n",
    "    X_T_Y_train = np.matmul(X_train.T, y_train)\n",
    "    W = np.matmul(np.linalg.inv(X_T_X_train + lambdaa*np.eye(len(X_T_X_train))), X_T_Y_train)\n",
    "    return W"
   ]
  },
  {
   "cell_type": "code",
   "execution_count": 21,
   "metadata": {
    "pycharm": {
     "name": "#%%\n"
    }
   },
   "outputs": [],
   "source": [
    "W = least_square(X_train, y_train)\n",
    "y_pre = predict(X_test, W)\n"
   ]
  },
  {
   "cell_type": "code",
   "execution_count": 22,
   "outputs": [
    {
     "name": "stdout",
     "output_type": "stream",
     "text": [
      "[[ 1.08881469e+01]\n",
      " [-3.95116246e-01]\n",
      " [ 1.45836702e+00]\n",
      " [ 5.59975629e+00]\n",
      " [-3.40227254e+01]\n",
      " [-1.64625767e+02]\n",
      " [ 3.58351315e+02]\n",
      " [ 1.64699902e+03]\n",
      " [-1.67447819e+03]\n",
      " [-7.80958123e+03]\n",
      " [ 3.70491294e+03]\n",
      " [ 1.86722021e+04]\n",
      " [-3.59161876e+03]\n",
      " [-2.15652246e+04]\n",
      " [ 1.04222885e+03]\n",
      " [ 9.39734067e+03]]\n"
     ]
    },
    {
     "data": {
      "text/plain": "<Figure size 432x288 with 1 Axes>",
      "image/png": "[encoded data removed]"
     },
     "metadata": {
      "needs_background": "light"
     },
     "output_type": "display_data"
    }
   ],
   "source": [
    "plt.plot(y_pre, 'r')\n",
    "plt.plot(y_test, 'b')\n",
    "print(W)"
   ],
   "metadata": {
    "collapsed": false,
    "pycharm": {
     "name": "#%%\n"
    }
   }
  },
  {
   "cell_type": "markdown",
   "metadata": {
    "pycharm": {
     "name": "#%% md\n"
    }
   },
   "source": [
    "## Hyper-Parameters Tuning "
   ]
  },
  {
   "cell_type": "code",
   "execution_count": 14,
   "metadata": {
    "pycharm": {
     "name": "#%%\n"
    }
   },
   "outputs": [
    {
     "data": {
      "text/plain": "<Figure size 432x288 with 1 Axes>",
      "image/png": "[encoded data removed]"
     },
     "metadata": {
      "needs_background": "light"
     },
     "output_type": "display_data"
    }
   ],
   "source": [
    "lambdaa = [0.01, 0.1, 1, 10, 100, 1000]\n",
    "mse_tr = deque()\n",
    "mse_te = deque()\n",
    "for l in lambdaa:\n",
    "    W = l2_regularization(X_train, y_train, lambdaa=l)\n",
    "    y_pre_te = predict(X_test, W)\n",
    "    y_pre_tr = predict(X_train, W)\n",
    "    mse_tr.append(mse_error(y_pre_tr, y_train))\n",
    "    mse_te.append(mse_error(y_pre_te, y_test))\n",
    "\n",
    "plt.plot(np.log10(lambdaa), mse_tr, 'r-s')\n",
    "plt.plot(np.log10(lambdaa), mse_te, 'b-o')\n",
    "plt.legend(['mean square error for train phase', 'mean square error for test phase'])\n",
    "plt.show()\n"
   ]
  },
  {
   "cell_type": "markdown",
   "metadata": {
    "pycharm": {
     "name": "#%% md\n"
    }
   },
   "source": [
    "## Regularized LS"
   ]
  },
  {
   "cell_type": "code",
   "execution_count": 15,
   "metadata": {
    "pycharm": {
     "name": "#%%\n"
    }
   },
   "outputs": [
    {
     "name": "stdout",
     "output_type": "stream",
     "text": [
      "[[ 0.78827958]\n",
      " [-0.27551742]\n",
      " [ 0.29280727]\n",
      " [-0.8918014 ]\n",
      " [ 0.0025599 ]\n",
      " [-0.11364186]\n",
      " [ 0.01114317]\n",
      " [-0.04215351]\n",
      " [-0.02522852]\n",
      " [-0.01296883]\n",
      " [-0.02073685]\n",
      " [ 0.03223798]\n",
      " [ 0.02039231]\n",
      " [ 0.08383616]\n",
      " [ 0.07399691]\n",
      " [ 0.13145445]]\n"
     ]
    },
    {
     "data": {
      "text/plain": "<Figure size 432x288 with 1 Axes>",
      "image/png": "[encoded data removed]"
     },
     "metadata": {
      "needs_background": "light"
     },
     "output_type": "display_data"
    }
   ],
   "source": [
    "lambdaa = 0.01\n",
    "W_ls = least_square(X_train, y_train)\n",
    "W_re = l2_regularization(X_train, y_train, lambdaa=lambdaa)\n",
    "y_pre_te_r = predict(X_test, W_re)\n",
    "y_pre_te_ls = predict(X_test, W_ls)\n",
    "plt.plot(X_test[:,1], y_pre_te_r, 'r.')\n",
    "plt.plot(X_test[:,1], y_test, 'b.')\n",
    "# plt.plot(X_test[:,1], y_pre_te_ls, 'k.')\n",
    "print(W_re)"
   ]
  },
  {
   "cell_type": "code",
   "execution_count": null,
   "metadata": {
    "pycharm": {
     "name": "#%%\n"
    }
   },
   "outputs": [],
   "source": []
  },
  {
   "cell_type": "code",
   "execution_count": null,
   "metadata": {
    "pycharm": {
     "name": "#%%\n"
    }
   },
   "outputs": [],
   "source": []
  }
 ],
 "metadata": {
  "kernelspec": {
   "display_name": "Python 3",
   "language": "python",
   "name": "python3"
  },
  "language_info": {
   "codemirror_mode": {
    "name": "ipython",
    "version": 3
   },
   "file_extension": ".py",
   "mimetype": "text/x-python",
   "name": "python",
   "nbconvert_exporter": "python",
   "pygments_lexer": "ipython3",
   "version": "3.7.9"
  }
 },
 "nbformat": 4,
 "nbformat_minor": 4
}